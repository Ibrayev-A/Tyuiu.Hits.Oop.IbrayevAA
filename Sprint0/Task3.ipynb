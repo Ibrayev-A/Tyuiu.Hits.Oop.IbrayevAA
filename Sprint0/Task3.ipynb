{
 "cells": [
  {
   "cell_type": "markdown",
   "metadata": {},
   "source": [
    "<h1 style=\"color:DodgerBlue\">Индивидальный проект</h1>"
   ]
  },
  {
   "cell_type": "markdown",
   "metadata": {},
   "source": [
    "<h2 style=\"color:DodgerBlue\">Название проекта:</h2>\n",
    "\n",
    "----\n",
    "\n",
    "### Вариант задания \n"
   ]
  },
  {
   "cell_type": "markdown",
   "metadata": {},
   "source": [
    "<h2 style=\"color:DodgerBlue\">Описание проекта:</h2>\n",
    "\n",
    "----\n",
    "\n",
    "[ваш текст]\n"
   ]
  },
  {
   "cell_type": "code",
   "execution_count": null,
   "metadata": {
    "dotnet_interactive": {
     "language": "csharp"
    },
    "polyglot_notebook": {
     "kernelName": "csharp"
    }
   },
   "outputs": [],
   "source": []
  },
  {
   "cell_type": "markdown",
   "metadata": {},
   "source": [
    "<h2 style=\"color:DodgerBlue\">Реализация:</h2>\n",
    "\n",
    "----"
   ]
  },
  {
   "cell_type": "code",
   "execution_count": 2,
   "metadata": {
    "dotnet_interactive": {
     "language": "csharp"
    },
    "polyglot_notebook": {
     "kernelName": "csharp"
    }
   },
   "outputs": [
    {
     "name": "stdout",
     "output_type": "stream",
     "text": [
      "ID: 1, Название: Молоко, Цена: 100, Единица измерения: литр\n",
      "Скидка на товар: 5.00\n",
      "Цена после скидки: 95.00\n",
      "\n",
      "ID: 2, Название: Кофе, Цена: 500\n",
      "Скидка на товар: 50.00\n",
      "Цена после скидки: 450.00\n",
      "\n"
     ]
    }
   ],
   "source": [
    "using System;\n",
    "\n",
    "class Item\n",
    "{\n",
    "    public int ItemId { get; set; }\n",
    "    public string Name { get; set; }\n",
    "    public decimal Price { get; set; }\n",
    "\n",
    "    public Item(int itemId, string name, decimal price)\n",
    "    {\n",
    "        ItemId = itemId;\n",
    "        Name = name;\n",
    "        Price = price;\n",
    "    }\n",
    "\n",
    "    public virtual string GetDetails()\n",
    "    {\n",
    "        return $\"ID: {ItemId}, Название: {Name}, Цена: {Price}\";\n",
    "    }\n",
    "\n",
    "    public virtual decimal CalculateDiscount()\n",
    "    {\n",
    "        return Price * 0.05m;\n",
    "    } \n",
    "\n",
    "    public virtual void ApplyDiscount(decimal discount)\n",
    "    {\n",
    "        Price -= discount;\n",
    "    }\n",
    "}\n",
    "\n",
    "class SingleItem : Item\n",
    "{\n",
    "    public string UnitMeasure { get; set; }\n",
    "\n",
    "    public SingleItem(int itemId, string name, decimal price, string unitMeasure)\n",
    "        : base(itemId, name, price)\n",
    "    {\n",
    "        UnitMeasure = unitMeasure;\n",
    "    }\n",
    "\n",
    "\n",
    "    public override string GetDetails()\n",
    "    {\n",
    "        return base.GetDetails() + $\", Единица измерения: {UnitMeasure}\";\n",
    "    }\n",
    "}\n",
    "\n",
    "class PackageItem : Item\n",
    "{\n",
    "    public int QuantityPerPackage { get; set; }\n",
    "\n",
    "    public PackageItem(int itemId, string name, decimal price, int quantityPerPackage)\n",
    "        : base(itemId, name, price)\n",
    "    {\n",
    "        QuantityPerPackage = quantityPerPackage;\n",
    "    }\n",
    "\n",
    "    public override decimal CalculateDiscount()\n",
    "    {\n",
    "        return Price * 0.05m * QuantityPerPackage;\n",
    "    }\n",
    "}\n",
    "\n",
    "\n",
    "SingleItem singleItem = new SingleItem(1, \"Молоко\", 100, \"литр\");\n",
    "PackageItem packageItem = new PackageItem(2, \"Кофе\", 500, 2);\n",
    "\n",
    "Console.WriteLine(singleItem.GetDetails());\n",
    "Console.WriteLine($\"Скидка на товар: {singleItem.CalculateDiscount()}\");\n",
    "singleItem.ApplyDiscount(singleItem.CalculateDiscount());\n",
    "Console.WriteLine($\"Цена после скидки: {singleItem.Price}\\n\");\n",
    "\n",
    "Console.WriteLine(packageItem.GetDetails());\n",
    "Console.WriteLine($\"Скидка на товар: {packageItem.CalculateDiscount()}\");\n",
    "packageItem.ApplyDiscount(packageItem.CalculateDiscount());\n",
    "Console.WriteLine($\"Цена после скидки: {packageItem.Price}\\n\");\n",
    "    \n"
   ]
  }
 ],
 "metadata": {
  "kernelspec": {
   "display_name": ".NET (C#)",
   "language": "C#",
   "name": ".net-csharp"
  },
  "polyglot_notebook": {
   "kernelInfo": {
    "defaultKernelName": "csharp",
    "items": [
     {
      "aliases": [],
      "languageName": "csharp",
      "name": "csharp"
     }
    ]
   }
  }
 },
 "nbformat": 4,
 "nbformat_minor": 2
}
